{
 "cells": [
  {
   "cell_type": "markdown",
   "metadata": {},
   "source": [
    "# 計算機実習 問題6.12 - エノン写像"
   ]
  },
  {
   "cell_type": "markdown",
   "metadata": {},
   "source": [
    "## シミュレーションの目的"
   ]
  },
  {
   "cell_type": "markdown",
   "metadata": {},
   "source": [
    "これまでは、さまざまな点で教育的であるロジスティック写像について議論してきた。今回は2次元の写像\n",
    "        \n",
    "\\begin{equation}\n",
    "    x_{n+1} = y_{n} + 1 - ax_{n}^{2}\n",
    "\\end{equation}\n",
    "\\begin{equation}\n",
    "    y_{n+1} = bx_{n}\n",
    "\\end{equation}\n",
    "\n",
    "で与えられる点($x_{n}$, $y_{n}$)の例を考える。写像(1),(2)はエノン(Henon)により最初に考えられたもので、小惑星や衛星の振る舞いとの関連がその動機であった。"
   ]
  },
  {
   "cell_type": "markdown",
   "metadata": {},
   "source": [
    "## 実習課題"
   ]
  },
  {
   "cell_type": "markdown",
   "metadata": {},
   "source": [
    "### 問題 a： "
   ]
  },
  {
   "cell_type": "markdown",
   "metadata": {},
   "source": [
    "$a=1.4$および$b=0.3$として、式(1),(2)の計算を反復して行え。$x_{0}=0$, $y_{0}=0$から始め、$10^{4}$回の反復の結果をプロットせよ。始めの過渡的な期間の結果はプロットしない。第2の初期条件$x_{0}=0.63 135 448 $、$y_{0}=0.18 940 634 $から始めて同様の図を描いて、それら2つの図の形を比較せよ。2つの曲線の形は初期条件によらないか。"
   ]
  },
  {
   "cell_type": "code",
   "execution_count": 1,
   "metadata": {
    "collapsed": false
   },
   "outputs": [],
   "source": [
    "%matplotlib inline\n",
    "from IPython.html.widgets import interactive\n",
    "from IPython.html import widgets\n",
    "from IPython.display import display\n",
    "import matplotlib.pyplot as plt\n",
    "import array"
   ]
  },
  {
   "cell_type": "code",
   "execution_count": 2,
   "metadata": {
    "collapsed": false
   },
   "outputs": [],
   "source": [
    "class Henon(object):\n",
    "\n",
    "    def __init__(self):\n",
    "        self.ntransient = 1000\n",
    "        self.nplot = 10000\n",
    "\n",
    "    def assignment(self, x0, y0, a, b):\n",
    "        self.x0 = x0\n",
    "        self.y0 = y0\n",
    "        self.a = a\n",
    "        self.b = b\n",
    "\n",
    "    def func(self, x_i, y_i):\n",
    "        return y_i + 1.0 - self.a * x_i ** 2, self.b * x_i\n",
    "\n",
    "    def calc(self):\n",
    "        self.x = array.array('d')\n",
    "        self.y = array.array('d')\n",
    "        self.x.append(self.x0)\n",
    "        self.y.append(self.y0)\n",
    "        for n in range(self.ntransient + self.nplot):\n",
    "            self.x.append(self.func(self.x[n], self.y[n])[0])\n",
    "            self.y.append(self.func(self.x[n], self.y[n])[1])\n",
    "        self.x = self.x[self.ntransient:self.ntransient + self.nplot]\n",
    "        self.y = self.y[self.ntransient:self.ntransient + self.nplot]\n",
    "\n",
    "    def plot_x_and_y(self, color='blue', showing=True):\n",
    "        self.margin = 0.1\n",
    "        plt.scatter(self.x, self.y, s=1.0, marker='o', color=color,\n",
    "                    label=r'$x_{0}=$' + str(self.x0) + ' : '\n",
    "                    + r'$y_{0}=$' + str(self.y0) + ' : '\n",
    "                    + r'$a=$' + str(self.a) + ' : '\n",
    "                    + r'$b=$' + str(self.b)\n",
    "                    )\n",
    "        plt.gca().set_xlim(min(self.x) - self.margin, max(self.x) + self.margin)\n",
    "        plt.gca().set_ylim(min(self.y) - self.margin, max(self.y) + self.margin)\n",
    "        plt.xlabel(r'$x$', fontsize=16)\n",
    "        plt.ylabel(r'$y$', fontsize=16)\n",
    "        plt.title(r\"$\\mathrm{H\\'{e}non\\ map}$\")\n",
    "        plt.legend(loc=\"best\")\n",
    "        if showing:\n",
    "            plt.show()\n",
    "        else:\n",
    "            pass"
   ]
  },
  {
   "cell_type": "code",
   "execution_count": 3,
   "metadata": {
    "collapsed": false
   },
   "outputs": [
    {
     "data": {
      "image/png": "[encoded data removed]",
      "text/plain": [
       "<matplotlib.figure.Figure at 0x7f37d857b2d0>"
      ]
     },
     "metadata": {},
     "output_type": "display_data"
    }
   ],
   "source": [
    "henon = Henon()\n",
    "\n",
    "def clicked_a(event):\n",
    "    kw = w.kwargs\n",
    "    x0 = kw['x0']\n",
    "    y0 = kw['y0']\n",
    "    a = 1.4\n",
    "    b = 0.3\n",
    "    henon.assignment(x0, y0, a, b)\n",
    "    henon.calc()\n",
    "    henon.plot_x_and_y(color='black')\n",
    "\n",
    "def assignment(x0, y0):\n",
    "    pass\n",
    "\n",
    "w = interactive(assignment, x0={'0.63135448':0.63135448, '0':0.0},\n",
    "                y0={'0.18940634':0.18940634, '0':0.0},\n",
    "                )\n",
    "display(w)\n",
    "button_a = widgets.Button(description='Run')\n",
    "display(button_a)\n",
    "button_a.on_click(clicked_a)"
   ]
  },
  {
   "cell_type": "markdown",
   "metadata": {},
   "source": [
    "$x$-$y$で描かれる曲線は円弧状の拡がりの中で折りたたまれたような形となっていることが分かる。初期条件を$x_{0}=0.63 135 448 $、$y_{0}=0.18 940 634 $としたときも、グラフは先の図と同じ形状をしており、曲線の形は初期条件によらないことが分かる。"
   ]
  },
  {
   "cell_type": "markdown",
   "metadata": {},
   "source": [
    "### 問題 c："
   ]
  },
  {
   "cell_type": "markdown",
   "metadata": {},
   "source": [
    " 系がカオス的であるかどうか、つまり初期条件に敏感であるかどうかを決定せよ。2つの互いに非常に近い2点から始めて、それらの軌跡を観察せよ。2つの軌跡に異なる色を付けよ。"
   ]
  },
  {
   "cell_type": "markdown",
   "metadata": {},
   "source": [
    "互いに近い2点を初期値として反復して計算を行い、それらの軌跡を同時にプロットする。"
   ]
  },
  {
   "cell_type": "code",
   "execution_count": 24,
   "metadata": {
    "collapsed": false
   },
   "outputs": [
    {
     "name": "stdout",
     "output_type": "stream",
     "text": [
      "0.63135448 0.0\n"
     ]
    },
    {
     "data": {
      "image/png": "[encoded data removed]",
      "text/plain": [
       "<matplotlib.figure.Figure at 0x7f482720a990>"
      ]
     },
     "metadata": {},
     "output_type": "display_data"
    }
   ],
   "source": [
    "delta_x0 = 0.0000001\n",
    "delta_y0 = -0.00001\n",
    "\n",
    "def clicked_c(event):\n",
    "    kw = w.kwargs\n",
    "    x0 = kw['x0']\n",
    "    y0 = kw['y0']\n",
    "    a = 1.4\n",
    "    b = 0.3\n",
    "    henon.assignment(x0, y0, a, b)\n",
    "    \n",
    "    # --- 1つ目のエノン写像の描画 ---\n",
    "    henon.calc()\n",
    "    henon.plot_x_and_y(color='red', showing=False)\n",
    "\n",
    "    # --- 近傍点の設定 ---\n",
    "    henon.x0 = henon.x0 + delta_x0\n",
    "    henon.y0 = henon.y0 + delta_y0\n",
    "\n",
    "    # --- 2つ目のエノン写像の描画 ---\n",
    "    henon.calc()\n",
    "    henon.plot_x_and_y(color='blue', showing=True)\n",
    "\n",
    "display(w)\n",
    "button_c = widgets.Button(description='Run')\n",
    "display(button_c)\n",
    "button_c.on_click(clicked_c)"
   ]
  },
  {
   "cell_type": "markdown",
   "metadata": {},
   "source": [
    "図から、非常に近い2つの初期条件から開始した曲線は、aでも見たようにその曲線の形は初期条件によらない。しかしながら、その曲線の中で離散的にプロットされる場所は異なっていることが分かる。"
   ]
  },
  {
   "cell_type": "markdown",
   "metadata": {},
   "source": [
    "## まとめ"
   ]
  },
  {
   "cell_type": "markdown",
   "metadata": {},
   "source": [
    "2次元の写像であるエノン写像について、その曲線の形状は初期値によらないこと、すなわちエノンアトラクタの存在について知ることができた。"
   ]
  },
  {
   "cell_type": "markdown",
   "metadata": {},
   "source": [
    "## 参考文献"
   ]
  },
  {
   "cell_type": "markdown",
   "metadata": {},
   "source": [
    "- ハーベイ・ゴールド,ジャン・トボチニク,石川正勝・宮島佐介訳『計算物理学入門』,ピアソン・エデュケーション,"
   ]
  }
 ],
 "metadata": {
  "kernelspec": {
   "display_name": "Python 2",
   "language": "python",
   "name": "python2"
  },
  "language_info": {
   "codemirror_mode": {
    "name": "ipython",
    "version": 2
   },
   "file_extension": ".py",
   "mimetype": "text/x-python",
   "name": "python",
   "nbconvert_exporter": "python",
   "pygments_lexer": "ipython2",
   "version": "2.7.6"
  }
 },
 "nbformat": 4,
 "nbformat_minor": 0
}
