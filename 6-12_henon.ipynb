{
 "metadata": {
  "kernelspec": {
   "codemirror_mode": {
    "name": "ipython",
    "version": 2
   },
   "display_name": "IPython (Python 2)",
   "language": "python",
   "name": "python2"
  },
  "name": "",
  "signature": "sha256:b2736b5a0f3c4140a5d14cc8c8be60e405eba00f5b268a52df44ee2d1d27bc5a"
 },
 "nbformat": 3,
 "nbformat_minor": 0,
 "worksheets": [
  {
   "cells": [
    {
     "cell_type": "heading",
     "level": 1,
     "metadata": {},
     "source": [
      "\u8a08\u7b97\u6a5f\u5b9f\u7fd2 \u554f\u984c6.12 - \u30a8\u30ce\u30f3\u5199\u50cf"
     ]
    },
    {
     "cell_type": "heading",
     "level": 2,
     "metadata": {},
     "source": [
      "\u30b7\u30df\u30e5\u30ec\u30fc\u30b7\u30e7\u30f3\u306e\u76ee\u7684"
     ]
    },
    {
     "cell_type": "markdown",
     "metadata": {},
     "source": [
      "\u3053\u308c\u307e\u3067\u306f\u3001\u3055\u307e\u3056\u307e\u306a\u70b9\u3067\u6559\u80b2\u7684\u3067\u3042\u308b\u30ed\u30b8\u30b9\u30c6\u30a3\u30c3\u30af\u5199\u50cf\u306b\u3064\u3044\u3066\u8b70\u8ad6\u3057\u3066\u304d\u305f\u3002\u4eca\u56de\u306f2\u6b21\u5143\u306e\u5199\u50cf\n",
      "        \n",
      "\\begin{equation}\n",
      "    x_{n+1} = y_{n} + 1 - ax_{n}^{2}\n",
      "\\end{equation}\n",
      "\\begin{equation}\n",
      "    y_{n+1} = bx_{n}\n",
      "\\end{equation}\n",
      "\n",
      "\u3067\u4e0e\u3048\u3089\u308c\u308b\u70b9($x_{n}$, $y_{n}$)\u306e\u4f8b\u3092\u8003\u3048\u308b\u3002\u5199\u50cf(1),(2)\u306f\u30a8\u30ce\u30f3(Henon)\u306b\u3088\u308a\u6700\u521d\u306b\u8003\u3048\u3089\u308c\u305f\u3082\u306e\u3067\u3001\u5c0f\u60d1\u661f\u3084\u885b\u661f\u306e\u632f\u308b\u821e\u3044\u3068\u306e\u95a2\u9023\u304c\u305d\u306e\u52d5\u6a5f\u3067\u3042\u3063\u305f\u3002"
     ]
    },
    {
     "cell_type": "heading",
     "level": 2,
     "metadata": {},
     "source": [
      "\u5b9f\u7fd2\u8ab2\u984c"
     ]
    },
    {
     "cell_type": "heading",
     "level": 3,
     "metadata": {},
     "source": [
      "\u554f\u984c a\uff1a "
     ]
    },
    {
     "cell_type": "markdown",
     "metadata": {},
     "source": [
      "$a=1.4$\u304a\u3088\u3073$b=0.3$\u3068\u3057\u3066\u3001\u5f0f(1),(2)\u306e\u8a08\u7b97\u3092\u53cd\u5fa9\u3057\u3066\u884c\u3048\u3002$x_{0}=0$, $y_{0}=0$\u304b\u3089\u59cb\u3081\u3001$10^{4}$\u56de\u306e\u53cd\u5fa9\u306e\u7d50\u679c\u3092\u30d7\u30ed\u30c3\u30c8\u305b\u3088\u3002\u59cb\u3081\u306e\u904e\u6e21\u7684\u306a\u671f\u9593\u306e\u7d50\u679c\u306f\u30d7\u30ed\u30c3\u30c8\u3057\u306a\u3044\u3002\u7b2c2\u306e\u521d\u671f\u6761\u4ef6$x_{0}=0.63 135 448 $\u3001$y_{0}=0.18 940 634 $\u304b\u3089\u59cb\u3081\u3066\u540c\u69d8\u306e\u56f3\u3092\u63cf\u3044\u3066\u3001\u305d\u308c\u30892\u3064\u306e\u56f3\u306e\u5f62\u3092\u6bd4\u8f03\u305b\u3088\u30022\u3064\u306e\u66f2\u7dda\u306e\u5f62\u306f\u521d\u671f\u6761\u4ef6\u306b\u3088\u3089\u306a\u3044\u304b\u3002"
     ]
    },
    {
     "cell_type": "code",
     "collapsed": false,
     "input": [
      "%matplotlib inline\n",
      "from IPython.html.widgets import interactive\n",
      "from IPython.html import widgets\n",
      "from IPython.display import display\n",
      "import matplotlib.pyplot as plt\n",
      "import array"
     ],
     "language": "python",
     "metadata": {},
     "outputs": [],
     "prompt_number": 5
    },
    {
     "cell_type": "code",
     "collapsed": false,
     "input": [
      "class Henon(object):\n",
      "\n",
      "    def __init__(self):\n",
      "        self.ntransient = 1000\n",
      "        self.nplot = 10000\n",
      "\n",
      "    def assignment(self, x0, y0, a, b):\n",
      "        self.x0 = x0\n",
      "        self.y0 = y0\n",
      "        self.a = a\n",
      "        self.b = b\n",
      "\n",
      "    def func(self, x_i, y_i):\n",
      "        return y_i + 1.0 - self.a * x_i ** 2, self.b * x_i\n",
      "\n",
      "    def calc(self):\n",
      "        self.x = array.array('d')\n",
      "        self.y = array.array('d')\n",
      "        self.x.append(self.x0)\n",
      "        self.y.append(self.y0)\n",
      "        for n in range(self.ntransient + self.nplot):\n",
      "            self.x.append(self.func(self.x[n], self.y[n])[0])\n",
      "            self.y.append(self.func(self.x[n], self.y[n])[1])\n",
      "        self.x = self.x[self.ntransient:self.ntransient + self.nplot]\n",
      "        self.y = self.y[self.ntransient:self.ntransient + self.nplot]\n",
      "\n",
      "    def plot_x_and_y(self, color='blue', showing=True):\n",
      "        self.margin = 0.1\n",
      "        plt.scatter(self.x, self.y, s=1.0, marker='o', color=color,\n",
      "                    label=r'$x_{0}=$' + str(self.x0) + ' : '\n",
      "                    + r'$y_{0}=$' + str(self.y0) + ' : '\n",
      "                    + r'$a=$' + str(self.a) + ' : '\n",
      "                    + r'$b=$' + str(self.b)\n",
      "                    )\n",
      "        plt.gca().set_xlim(min(self.x) - self.margin, max(self.x) + self.margin)\n",
      "        plt.gca().set_ylim(min(self.y) - self.margin, max(self.y) + self.margin)\n",
      "        plt.xlabel(r'$x$', fontsize=16)\n",
      "        plt.ylabel(r'$y$', fontsize=16)\n",
      "        plt.title(r\"$\\mathrm{H\\'{e}non\\ map}$\")\n",
      "        plt.legend(loc=\"best\")\n",
      "        if showing:\n",
      "            plt.show()\n",
      "        else:\n",
      "            pass"
     ],
     "language": "python",
     "metadata": {},
     "outputs": [],
     "prompt_number": 19
    },
    {
     "cell_type": "code",
     "collapsed": false,
     "input": [
      "henon = Henon()\n",
      "\n",
      "def clicked_a(event):\n",
      "    kw = w.kwargs\n",
      "    x0 = kw['x0']\n",
      "    y0 = kw['y0']\n",
      "    a = 1.4\n",
      "    b = 0.3\n",
      "    henon.assignment(x0, y0, a, b)\n",
      "    henon.calc()\n",
      "    henon.plot_x_and_y(color='black')\n",
      "\n",
      "def assignment(x0, y0):\n",
      "    pass\n",
      "\n",
      "w = interactive(assignment, x0={'0.63135448':0.63135448, '0':0.0},\n",
      "                y0={'0.18940634':0.18940634, '0':0.0},\n",
      "                )\n",
      "display(w)\n",
      "button_a = widgets.Button(description='Run')\n",
      "display(button_a)\n",
      "button_a.on_click(clicked_a)"
     ],
     "language": "python",
     "metadata": {},
     "outputs": [],
     "prompt_number": 23
    },
    {
     "cell_type": "markdown",
     "metadata": {},
     "source": [
      "$x$-$y$\u3067\u63cf\u304b\u308c\u308b\u66f2\u7dda\u306f\u5186\u5f27\u72b6\u306e\u62e1\u304c\u308a\u306e\u4e2d\u3067\u6298\u308a\u305f\u305f\u307e\u308c\u305f\u3088\u3046\u306a\u5f62\u3068\u306a\u3063\u3066\u3044\u308b\u3053\u3068\u304c\u5206\u304b\u308b\u3002\u521d\u671f\u6761\u4ef6\u3092$x_{0}=0.63 135 448 $\u3001$y_{0}=0.18 940 634 $\u3068\u3057\u305f\u3068\u304d\u3082\u3001\u30b0\u30e9\u30d5\u306f\u5148\u306e\u56f3\u3068\u540c\u3058\u5f62\u72b6\u3092\u3057\u3066\u304a\u308a\u3001\u66f2\u7dda\u306e\u5f62\u306f\u521d\u671f\u6761\u4ef6\u306b\u3088\u3089\u306a\u3044\u3053\u3068\u304c\u5206\u304b\u308b\u3002"
     ]
    },
    {
     "cell_type": "heading",
     "level": 3,
     "metadata": {},
     "source": [
      "\u554f\u984c c\uff1a"
     ]
    },
    {
     "cell_type": "markdown",
     "metadata": {},
     "source": [
      " \u7cfb\u304c\u30ab\u30aa\u30b9\u7684\u3067\u3042\u308b\u304b\u3069\u3046\u304b\u3001\u3064\u307e\u308a\u521d\u671f\u6761\u4ef6\u306b\u654f\u611f\u3067\u3042\u308b\u304b\u3069\u3046\u304b\u3092\u6c7a\u5b9a\u305b\u3088\u30022\u3064\u306e\u4e92\u3044\u306b\u975e\u5e38\u306b\u8fd1\u30442\u70b9\u304b\u3089\u59cb\u3081\u3066\u3001\u305d\u308c\u3089\u306e\u8ecc\u8de1\u3092\u89b3\u5bdf\u305b\u3088\u30022\u3064\u306e\u8ecc\u8de1\u306b\u7570\u306a\u308b\u8272\u3092\u4ed8\u3051\u3088\u3002"
     ]
    },
    {
     "cell_type": "markdown",
     "metadata": {},
     "source": [
      "\u4e92\u3044\u306b\u8fd1\u30442\u70b9\u3092\u521d\u671f\u5024\u3068\u3057\u3066\u53cd\u5fa9\u3057\u3066\u8a08\u7b97\u3092\u884c\u3044\u3001\u305d\u308c\u3089\u306e\u8ecc\u8de1\u3092\u540c\u6642\u306b\u30d7\u30ed\u30c3\u30c8\u3059\u308b\u3002"
     ]
    },
    {
     "cell_type": "code",
     "collapsed": false,
     "input": [
      "delta_x0 = 0.0000001\n",
      "delta_y0 = -0.00001\n",
      "\n",
      "def clicked_c(event):\n",
      "    kw = w.kwargs\n",
      "    x0 = kw['x0']\n",
      "    y0 = kw['y0']\n",
      "    a = 1.4\n",
      "    b = 0.3\n",
      "    henon.assignment(x0, y0, a, b)\n",
      "    \n",
      "    # --- 1\u3064\u76ee\u306e\u30a8\u30ce\u30f3\u5199\u50cf\u306e\u63cf\u753b ---\n",
      "    henon.calc()\n",
      "    henon.plot_x_and_y(color='red', showing=False)\n",
      "\n",
      "    # --- \u8fd1\u508d\u70b9\u306e\u8a2d\u5b9a ---\n",
      "    henon.x0 = henon.x0 + delta_x0\n",
      "    henon.y0 = henon.y0 + delta_y0\n",
      "\n",
      "    # --- 2\u3064\u76ee\u306e\u30a8\u30ce\u30f3\u5199\u50cf\u306e\u63cf\u753b ---\n",
      "    henon.calc()\n",
      "    henon.plot_x_and_y(color='blue', showing=True)\n",
      "\n",
      "display(w)\n",
      "button_c = widgets.Button(description='Run')\n",
      "display(button_c)\n",
      "button_c.on_click(clicked_c)"
     ],
     "language": "python",
     "metadata": {},
     "outputs": [
      {
       "output_type": "stream",
       "stream": "stdout",
       "text": [
        "0.63135448 0.0\n"
       ]
      },
      {
       "metadata": {},
       "output_type": "display_data",
       "png": "[encoded data removed]",
       "text": [
        "<matplotlib.figure.Figure at 0x7f482720a990>"
       ]
      }
     ],
     "prompt_number": 24
    },
    {
     "cell_type": "markdown",
     "metadata": {},
     "source": [
      "\u56f3\u304b\u3089\u3001\u975e\u5e38\u306b\u8fd1\u30442\u3064\u306e\u521d\u671f\u6761\u4ef6\u304b\u3089\u958b\u59cb\u3057\u305f\u66f2\u7dda\u306f\u3001a\u3067\u3082\u898b\u305f\u3088\u3046\u306b\u305d\u306e\u66f2\u7dda\u306e\u5f62\u306f\u521d\u671f\u6761\u4ef6\u306b\u3088\u3089\u306a\u3044\u3002\u3057\u304b\u3057\u306a\u304c\u3089\u3001\u305d\u306e\u66f2\u7dda\u306e\u4e2d\u3067\u96e2\u6563\u7684\u306b\u30d7\u30ed\u30c3\u30c8\u3055\u308c\u308b\u5834\u6240\u306f\u7570\u306a\u3063\u3066\u3044\u308b\u3053\u3068\u304c\u5206\u304b\u308b\u3002"
     ]
    },
    {
     "cell_type": "heading",
     "level": 2,
     "metadata": {},
     "source": [
      "\u307e\u3068\u3081"
     ]
    },
    {
     "cell_type": "markdown",
     "metadata": {},
     "source": [
      "2\u6b21\u5143\u306e\u5199\u50cf\u3067\u3042\u308b\u30a8\u30ce\u30f3\u5199\u50cf\u306b\u3064\u3044\u3066\u3001\u305d\u306e\u66f2\u7dda\u306e\u5f62\u72b6\u306f\u521d\u671f\u5024\u306b\u3088\u3089\u306a\u3044\u3053\u3068\u3001\u3059\u306a\u308f\u3061\u30a8\u30ce\u30f3\u30a2\u30c8\u30e9\u30af\u30bf\u306e\u5b58\u5728\u306b\u3064\u3044\u3066\u77e5\u308b\u3053\u3068\u304c\u3067\u304d\u305f\u3002"
     ]
    },
    {
     "cell_type": "heading",
     "level": 2,
     "metadata": {},
     "source": [
      "\u53c2\u8003\u6587\u732e"
     ]
    },
    {
     "cell_type": "markdown",
     "metadata": {},
     "source": [
      "- \u30cf\u30fc\u30d9\u30a4\u30fb\u30b4\u30fc\u30eb\u30c9,\u30b8\u30e3\u30f3\u30fb\u30c8\u30dc\u30c1\u30cb\u30af,\u77f3\u5ddd\u6b63\u52dd\u30fb\u5bae\u5cf6\u4f50\u4ecb\u8a33\u300e\u8a08\u7b97\u7269\u7406\u5b66\u5165\u9580\u300f,\u30d4\u30a2\u30bd\u30f3\u30fb\u30a8\u30c7\u30e5\u30b1\u30fc\u30b7\u30e7\u30f3,"
     ]
    }
   ],
   "metadata": {}
  }
 ]
}